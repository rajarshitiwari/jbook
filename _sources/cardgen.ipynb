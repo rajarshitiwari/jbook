{
 "cells": [
  {
   "cell_type": "code",
   "execution_count": 1,
   "metadata": {},
   "outputs": [
    {
     "name": "stdout",
     "output_type": "stream",
     "text": [
      "#### 0\n",
      "````{dropdown} How does quantum computing (QC) fit alongside classical high-performance computing (HPC) systems & applications?\n",
      "```{card} Answer\n",
      "QC will serve as an accelerator in HPC for specific parts of an application, leading to hybrid HPC-QC systems & applications.\n",
      "```\n",
      "````\n",
      "\n",
      "#### 1\n",
      "````{dropdown} What types of problems can quantum computing (QC) solve better than classical high-performance computing (HPC)?\n",
      "```{card} Answer\n",
      "Problems with approximations to address intractability, reducing precision when scaling complexity, simulate models which are related to quantum mechanics, etc..\n",
      "```\n",
      "````\n",
      "\n",
      "#### 2\n",
      "````{dropdown} How would you define your role & value in quantum computing (QC)?\n",
      "```{card} Answer\n",
      "This is best defined in discussion with experts in quantum computing systems & applications. Opportunities lie in end-user applications, co-development of technologies, ecosystem leadership, skills & training, etc..\n",
      "```\n",
      "````\n",
      "\n",
      "#### 3\n",
      "````{dropdown} What are key tipping points or milestones for quantum computing (QC) to become more reliable & scalable?\n",
      "```{card} Answer\n",
      "Improved noise & reliability in qubits & quantum gates, precision in control & engineering of quantum systems, integration of classical HPC & QC systems, higher-level software tools integrated with classical software tools.\n",
      "```\n",
      "````\n",
      "\n",
      "#### 4\n",
      "````{dropdown} Do quantum computers always need to be refridgerated and operated at extremely low temperatures?\n",
      "```{card} Answer\n",
      "No all quantum computer realisation methods require refridgeration and operation at extremely low temperatures. For instance, the superconducting approach requires refridgeration, while photonics or diamond-based approaches may be operated at room temperature.\n",
      "```\n",
      "````\n",
      "\n",
      "#### 5\n",
      "````{dropdown} If real NISQ devices are already available for free access, then do we need software-based simulators of quantum computers?\n",
      "```{card} Answer\n",
      "Given the limitations of small and error-prone NISQ devices, software-based quantum simulators offer a valuable alternative for easier experimentation and skills development before transitioning to real hardware. Starting with simulators facilitates learning and development, providing a more accessible entry point compared to directly working with NISQ hardware.\n",
      "```\n",
      "````\n",
      "\n",
      "#### 6\n",
      "````{dropdown} How or where can you start your engagement with quantum computing?\n",
      "```{card} Answer\n",
      "Investigate potential use-cases of interest, mechanisms for skills development, partners for collaborations & discussion, national & international programmes in which to participate, etc..\n",
      "```\n",
      "````\n",
      "\n",
      "\n"
     ]
    }
   ],
   "source": [
    "import json\n",
    "with open(\"material/cards_1.json\") as f:\n",
    "    dic = json.load(f)\n",
    "ss = ''\n",
    "for i, d in enumerate(dic):\n",
    "    que, ans = d['front'], d['back']\n",
    "\n",
    "    ss += \"#### \" + str(i) + '\\n````{dropdown} ' + que\n",
    "    ss += '\\n```{card} Answer\\n'\n",
    "    ss += ans + '\\n```\\n````\\n\\n'\n",
    "print(ss)"
   ]
  },
  {
   "cell_type": "code",
   "execution_count": null,
   "metadata": {},
   "outputs": [],
   "source": []
  }
 ],
 "metadata": {
  "kernelspec": {
   "display_name": "Python 3",
   "language": "python",
   "name": "python3"
  },
  "language_info": {
   "codemirror_mode": {
    "name": "ipython",
    "version": 3
   },
   "file_extension": ".py",
   "mimetype": "text/x-python",
   "name": "python",
   "nbconvert_exporter": "python",
   "pygments_lexer": "ipython3",
   "version": "3.12.0"
  }
 },
 "nbformat": 4,
 "nbformat_minor": 2
}
